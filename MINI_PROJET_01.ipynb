{
 "cells": [
  {
   "cell_type": "markdown",
   "metadata": {},
   "source": [
    "# Multiple Linear Rgression"
   ]
  },
  {
   "cell_type": "markdown",
   "metadata": {},
   "source": [
    "## 1.Importation des bibliothèque"
   ]
  },
  {
   "cell_type": "code",
   "execution_count": 1,
   "metadata": {},
   "outputs": [],
   "source": [
    "import pandas as pd #manipulation des Dataframes\n",
    "import numpy as np #pour faire le calcul scientifique\n",
    "import matplotlib.pyplot as plt # Visualisation Graphique (matplotlib) 2D (pyplot)\n",
    "import seaborn as sns # Visualisation et Manipulation des outils statistiques\n",
    "import warnings\n",
    "warnings.filterwarnings('ignore') # Ignorer les warnings"
   ]
  },
  {
   "cell_type": "markdown",
   "metadata": {},
   "source": [
    "## 2.Importation de la base de données"
   ]
  },
  {
   "cell_type": "code",
   "execution_count": 2,
   "metadata": {},
   "outputs": [],
   "source": [
    "dataset= pd.read_csv('50_Startups.csv') # importer la base"
   ]
  },
  {
   "cell_type": "markdown",
   "metadata": {},
   "source": [
    "## 3.Dimention et Information"
   ]
  },
  {
   "cell_type": "code",
   "execution_count": 3,
   "metadata": {},
   "outputs": [
    {
     "data": {
      "text/plain": [
       "(50, 5)"
      ]
     },
     "execution_count": 3,
     "metadata": {},
     "output_type": "execute_result"
    }
   ],
   "source": [
    "dataset.shape #pour savoir combien de lignes et de colonnes; ici on a 50 lignes et 5 en colonnes"
   ]
  },
  {
   "cell_type": "code",
   "execution_count": 4,
   "metadata": {},
   "outputs": [
    {
     "data": {
      "text/html": [
       "<div>\n",
       "<style scoped>\n",
       "    .dataframe tbody tr th:only-of-type {\n",
       "        vertical-align: middle;\n",
       "    }\n",
       "\n",
       "    .dataframe tbody tr th {\n",
       "        vertical-align: top;\n",
       "    }\n",
       "\n",
       "    .dataframe thead th {\n",
       "        text-align: right;\n",
       "    }\n",
       "</style>\n",
       "<table border=\"1\" class=\"dataframe\">\n",
       "  <thead>\n",
       "    <tr style=\"text-align: right;\">\n",
       "      <th></th>\n",
       "      <th>R&amp;D Spend</th>\n",
       "      <th>Administration</th>\n",
       "      <th>Marketing Spend</th>\n",
       "      <th>State</th>\n",
       "      <th>Profit</th>\n",
       "    </tr>\n",
       "  </thead>\n",
       "  <tbody>\n",
       "    <tr>\n",
       "      <th>0</th>\n",
       "      <td>165349.20</td>\n",
       "      <td>136897.80</td>\n",
       "      <td>471784.10</td>\n",
       "      <td>New York</td>\n",
       "      <td>192261.83</td>\n",
       "    </tr>\n",
       "    <tr>\n",
       "      <th>1</th>\n",
       "      <td>162597.70</td>\n",
       "      <td>151377.59</td>\n",
       "      <td>443898.53</td>\n",
       "      <td>California</td>\n",
       "      <td>191792.06</td>\n",
       "    </tr>\n",
       "    <tr>\n",
       "      <th>2</th>\n",
       "      <td>153441.51</td>\n",
       "      <td>101145.55</td>\n",
       "      <td>407934.54</td>\n",
       "      <td>Florida</td>\n",
       "      <td>191050.39</td>\n",
       "    </tr>\n",
       "    <tr>\n",
       "      <th>3</th>\n",
       "      <td>144372.41</td>\n",
       "      <td>118671.85</td>\n",
       "      <td>383199.62</td>\n",
       "      <td>New York</td>\n",
       "      <td>182901.99</td>\n",
       "    </tr>\n",
       "    <tr>\n",
       "      <th>4</th>\n",
       "      <td>142107.34</td>\n",
       "      <td>91391.77</td>\n",
       "      <td>366168.42</td>\n",
       "      <td>Florida</td>\n",
       "      <td>166187.94</td>\n",
       "    </tr>\n",
       "  </tbody>\n",
       "</table>\n",
       "</div>"
      ],
      "text/plain": [
       "   R&D Spend  Administration  Marketing Spend       State     Profit\n",
       "0  165349.20       136897.80        471784.10    New York  192261.83\n",
       "1  162597.70       151377.59        443898.53  California  191792.06\n",
       "2  153441.51       101145.55        407934.54     Florida  191050.39\n",
       "3  144372.41       118671.85        383199.62    New York  182901.99\n",
       "4  142107.34        91391.77        366168.42     Florida  166187.94"
      ]
     },
     "execution_count": 4,
     "metadata": {},
     "output_type": "execute_result"
    }
   ],
   "source": [
    "dataset.head() #affiche les 5 premières lignes de la base"
   ]
  },
  {
   "cell_type": "code",
   "execution_count": 5,
   "metadata": {},
   "outputs": [
    {
     "data": {
      "text/html": [
       "<div>\n",
       "<style scoped>\n",
       "    .dataframe tbody tr th:only-of-type {\n",
       "        vertical-align: middle;\n",
       "    }\n",
       "\n",
       "    .dataframe tbody tr th {\n",
       "        vertical-align: top;\n",
       "    }\n",
       "\n",
       "    .dataframe thead th {\n",
       "        text-align: right;\n",
       "    }\n",
       "</style>\n",
       "<table border=\"1\" class=\"dataframe\">\n",
       "  <thead>\n",
       "    <tr style=\"text-align: right;\">\n",
       "      <th></th>\n",
       "      <th>R&amp;D Spend</th>\n",
       "      <th>Administration</th>\n",
       "      <th>Marketing Spend</th>\n",
       "      <th>State</th>\n",
       "      <th>Profit</th>\n",
       "    </tr>\n",
       "  </thead>\n",
       "  <tbody>\n",
       "    <tr>\n",
       "      <th>45</th>\n",
       "      <td>1000.23</td>\n",
       "      <td>124153.04</td>\n",
       "      <td>1903.93</td>\n",
       "      <td>New York</td>\n",
       "      <td>64926.08</td>\n",
       "    </tr>\n",
       "    <tr>\n",
       "      <th>46</th>\n",
       "      <td>1315.46</td>\n",
       "      <td>115816.21</td>\n",
       "      <td>297114.46</td>\n",
       "      <td>Florida</td>\n",
       "      <td>49490.75</td>\n",
       "    </tr>\n",
       "    <tr>\n",
       "      <th>47</th>\n",
       "      <td>0.00</td>\n",
       "      <td>135426.92</td>\n",
       "      <td>0.00</td>\n",
       "      <td>California</td>\n",
       "      <td>42559.73</td>\n",
       "    </tr>\n",
       "    <tr>\n",
       "      <th>48</th>\n",
       "      <td>542.05</td>\n",
       "      <td>51743.15</td>\n",
       "      <td>0.00</td>\n",
       "      <td>New York</td>\n",
       "      <td>35673.41</td>\n",
       "    </tr>\n",
       "    <tr>\n",
       "      <th>49</th>\n",
       "      <td>0.00</td>\n",
       "      <td>116983.80</td>\n",
       "      <td>45173.06</td>\n",
       "      <td>California</td>\n",
       "      <td>14681.40</td>\n",
       "    </tr>\n",
       "  </tbody>\n",
       "</table>\n",
       "</div>"
      ],
      "text/plain": [
       "    R&D Spend  Administration  Marketing Spend       State    Profit\n",
       "45    1000.23       124153.04          1903.93    New York  64926.08\n",
       "46    1315.46       115816.21        297114.46     Florida  49490.75\n",
       "47       0.00       135426.92             0.00  California  42559.73\n",
       "48     542.05        51743.15             0.00    New York  35673.41\n",
       "49       0.00       116983.80         45173.06  California  14681.40"
      ]
     },
     "execution_count": 5,
     "metadata": {},
     "output_type": "execute_result"
    }
   ],
   "source": [
    "dataset.tail() #affiche les 5 dernières lignes de la base "
   ]
  },
  {
   "cell_type": "code",
   "execution_count": 6,
   "metadata": {},
   "outputs": [
    {
     "data": {
      "text/html": [
       "<div>\n",
       "<style scoped>\n",
       "    .dataframe tbody tr th:only-of-type {\n",
       "        vertical-align: middle;\n",
       "    }\n",
       "\n",
       "    .dataframe tbody tr th {\n",
       "        vertical-align: top;\n",
       "    }\n",
       "\n",
       "    .dataframe thead th {\n",
       "        text-align: right;\n",
       "    }\n",
       "</style>\n",
       "<table border=\"1\" class=\"dataframe\">\n",
       "  <thead>\n",
       "    <tr style=\"text-align: right;\">\n",
       "      <th></th>\n",
       "      <th>R&amp;D Spend</th>\n",
       "      <th>Administration</th>\n",
       "      <th>Marketing Spend</th>\n",
       "      <th>State</th>\n",
       "      <th>Profit</th>\n",
       "    </tr>\n",
       "  </thead>\n",
       "  <tbody>\n",
       "    <tr>\n",
       "      <th>0</th>\n",
       "      <td>165349.20</td>\n",
       "      <td>136897.80</td>\n",
       "      <td>471784.10</td>\n",
       "      <td>New York</td>\n",
       "      <td>192261.83</td>\n",
       "    </tr>\n",
       "    <tr>\n",
       "      <th>1</th>\n",
       "      <td>162597.70</td>\n",
       "      <td>151377.59</td>\n",
       "      <td>443898.53</td>\n",
       "      <td>California</td>\n",
       "      <td>191792.06</td>\n",
       "    </tr>\n",
       "    <tr>\n",
       "      <th>2</th>\n",
       "      <td>153441.51</td>\n",
       "      <td>101145.55</td>\n",
       "      <td>407934.54</td>\n",
       "      <td>Florida</td>\n",
       "      <td>191050.39</td>\n",
       "    </tr>\n",
       "    <tr>\n",
       "      <th>3</th>\n",
       "      <td>144372.41</td>\n",
       "      <td>118671.85</td>\n",
       "      <td>383199.62</td>\n",
       "      <td>New York</td>\n",
       "      <td>182901.99</td>\n",
       "    </tr>\n",
       "    <tr>\n",
       "      <th>4</th>\n",
       "      <td>142107.34</td>\n",
       "      <td>91391.77</td>\n",
       "      <td>366168.42</td>\n",
       "      <td>Florida</td>\n",
       "      <td>166187.94</td>\n",
       "    </tr>\n",
       "    <tr>\n",
       "      <th>5</th>\n",
       "      <td>131876.90</td>\n",
       "      <td>99814.71</td>\n",
       "      <td>362861.36</td>\n",
       "      <td>New York</td>\n",
       "      <td>156991.12</td>\n",
       "    </tr>\n",
       "    <tr>\n",
       "      <th>6</th>\n",
       "      <td>134615.46</td>\n",
       "      <td>147198.87</td>\n",
       "      <td>127716.82</td>\n",
       "      <td>California</td>\n",
       "      <td>156122.51</td>\n",
       "    </tr>\n",
       "    <tr>\n",
       "      <th>7</th>\n",
       "      <td>130298.13</td>\n",
       "      <td>145530.06</td>\n",
       "      <td>323876.68</td>\n",
       "      <td>Florida</td>\n",
       "      <td>155752.60</td>\n",
       "    </tr>\n",
       "    <tr>\n",
       "      <th>8</th>\n",
       "      <td>120542.52</td>\n",
       "      <td>148718.95</td>\n",
       "      <td>311613.29</td>\n",
       "      <td>New York</td>\n",
       "      <td>152211.77</td>\n",
       "    </tr>\n",
       "    <tr>\n",
       "      <th>9</th>\n",
       "      <td>123334.88</td>\n",
       "      <td>108679.17</td>\n",
       "      <td>304981.62</td>\n",
       "      <td>California</td>\n",
       "      <td>149759.96</td>\n",
       "    </tr>\n",
       "    <tr>\n",
       "      <th>10</th>\n",
       "      <td>101913.08</td>\n",
       "      <td>110594.11</td>\n",
       "      <td>229160.95</td>\n",
       "      <td>Florida</td>\n",
       "      <td>146121.95</td>\n",
       "    </tr>\n",
       "    <tr>\n",
       "      <th>11</th>\n",
       "      <td>100671.96</td>\n",
       "      <td>91790.61</td>\n",
       "      <td>249744.55</td>\n",
       "      <td>California</td>\n",
       "      <td>144259.40</td>\n",
       "    </tr>\n",
       "    <tr>\n",
       "      <th>12</th>\n",
       "      <td>93863.75</td>\n",
       "      <td>127320.38</td>\n",
       "      <td>249839.44</td>\n",
       "      <td>Florida</td>\n",
       "      <td>141585.52</td>\n",
       "    </tr>\n",
       "    <tr>\n",
       "      <th>13</th>\n",
       "      <td>91992.39</td>\n",
       "      <td>135495.07</td>\n",
       "      <td>252664.93</td>\n",
       "      <td>California</td>\n",
       "      <td>134307.35</td>\n",
       "    </tr>\n",
       "    <tr>\n",
       "      <th>14</th>\n",
       "      <td>119943.24</td>\n",
       "      <td>156547.42</td>\n",
       "      <td>256512.92</td>\n",
       "      <td>Florida</td>\n",
       "      <td>132602.65</td>\n",
       "    </tr>\n",
       "    <tr>\n",
       "      <th>15</th>\n",
       "      <td>114523.61</td>\n",
       "      <td>122616.84</td>\n",
       "      <td>261776.23</td>\n",
       "      <td>New York</td>\n",
       "      <td>129917.04</td>\n",
       "    </tr>\n",
       "    <tr>\n",
       "      <th>16</th>\n",
       "      <td>78013.11</td>\n",
       "      <td>121597.55</td>\n",
       "      <td>264346.06</td>\n",
       "      <td>California</td>\n",
       "      <td>126992.93</td>\n",
       "    </tr>\n",
       "    <tr>\n",
       "      <th>17</th>\n",
       "      <td>94657.16</td>\n",
       "      <td>145077.58</td>\n",
       "      <td>282574.31</td>\n",
       "      <td>New York</td>\n",
       "      <td>125370.37</td>\n",
       "    </tr>\n",
       "    <tr>\n",
       "      <th>18</th>\n",
       "      <td>91749.16</td>\n",
       "      <td>114175.79</td>\n",
       "      <td>294919.57</td>\n",
       "      <td>Florida</td>\n",
       "      <td>124266.90</td>\n",
       "    </tr>\n",
       "    <tr>\n",
       "      <th>19</th>\n",
       "      <td>86419.70</td>\n",
       "      <td>153514.11</td>\n",
       "      <td>0.00</td>\n",
       "      <td>New York</td>\n",
       "      <td>122776.86</td>\n",
       "    </tr>\n",
       "    <tr>\n",
       "      <th>20</th>\n",
       "      <td>76253.86</td>\n",
       "      <td>113867.30</td>\n",
       "      <td>298664.47</td>\n",
       "      <td>California</td>\n",
       "      <td>118474.03</td>\n",
       "    </tr>\n",
       "    <tr>\n",
       "      <th>21</th>\n",
       "      <td>78389.47</td>\n",
       "      <td>153773.43</td>\n",
       "      <td>299737.29</td>\n",
       "      <td>New York</td>\n",
       "      <td>111313.02</td>\n",
       "    </tr>\n",
       "    <tr>\n",
       "      <th>22</th>\n",
       "      <td>73994.56</td>\n",
       "      <td>122782.75</td>\n",
       "      <td>303319.26</td>\n",
       "      <td>Florida</td>\n",
       "      <td>110352.25</td>\n",
       "    </tr>\n",
       "    <tr>\n",
       "      <th>23</th>\n",
       "      <td>67532.53</td>\n",
       "      <td>105751.03</td>\n",
       "      <td>304768.73</td>\n",
       "      <td>Florida</td>\n",
       "      <td>108733.99</td>\n",
       "    </tr>\n",
       "    <tr>\n",
       "      <th>24</th>\n",
       "      <td>77044.01</td>\n",
       "      <td>99281.34</td>\n",
       "      <td>140574.81</td>\n",
       "      <td>New York</td>\n",
       "      <td>108552.04</td>\n",
       "    </tr>\n",
       "    <tr>\n",
       "      <th>25</th>\n",
       "      <td>64664.71</td>\n",
       "      <td>139553.16</td>\n",
       "      <td>137962.62</td>\n",
       "      <td>California</td>\n",
       "      <td>107404.34</td>\n",
       "    </tr>\n",
       "    <tr>\n",
       "      <th>26</th>\n",
       "      <td>75328.87</td>\n",
       "      <td>144135.98</td>\n",
       "      <td>134050.07</td>\n",
       "      <td>Florida</td>\n",
       "      <td>105733.54</td>\n",
       "    </tr>\n",
       "    <tr>\n",
       "      <th>27</th>\n",
       "      <td>72107.60</td>\n",
       "      <td>127864.55</td>\n",
       "      <td>353183.81</td>\n",
       "      <td>New York</td>\n",
       "      <td>105008.31</td>\n",
       "    </tr>\n",
       "    <tr>\n",
       "      <th>28</th>\n",
       "      <td>66051.52</td>\n",
       "      <td>182645.56</td>\n",
       "      <td>118148.20</td>\n",
       "      <td>Florida</td>\n",
       "      <td>103282.38</td>\n",
       "    </tr>\n",
       "    <tr>\n",
       "      <th>29</th>\n",
       "      <td>65605.48</td>\n",
       "      <td>153032.06</td>\n",
       "      <td>107138.38</td>\n",
       "      <td>New York</td>\n",
       "      <td>101004.64</td>\n",
       "    </tr>\n",
       "    <tr>\n",
       "      <th>30</th>\n",
       "      <td>61994.48</td>\n",
       "      <td>115641.28</td>\n",
       "      <td>91131.24</td>\n",
       "      <td>Florida</td>\n",
       "      <td>99937.59</td>\n",
       "    </tr>\n",
       "    <tr>\n",
       "      <th>31</th>\n",
       "      <td>61136.38</td>\n",
       "      <td>152701.92</td>\n",
       "      <td>88218.23</td>\n",
       "      <td>New York</td>\n",
       "      <td>97483.56</td>\n",
       "    </tr>\n",
       "    <tr>\n",
       "      <th>32</th>\n",
       "      <td>63408.86</td>\n",
       "      <td>129219.61</td>\n",
       "      <td>46085.25</td>\n",
       "      <td>California</td>\n",
       "      <td>97427.84</td>\n",
       "    </tr>\n",
       "    <tr>\n",
       "      <th>33</th>\n",
       "      <td>55493.95</td>\n",
       "      <td>103057.49</td>\n",
       "      <td>214634.81</td>\n",
       "      <td>Florida</td>\n",
       "      <td>96778.92</td>\n",
       "    </tr>\n",
       "    <tr>\n",
       "      <th>34</th>\n",
       "      <td>46426.07</td>\n",
       "      <td>157693.92</td>\n",
       "      <td>210797.67</td>\n",
       "      <td>California</td>\n",
       "      <td>96712.80</td>\n",
       "    </tr>\n",
       "    <tr>\n",
       "      <th>35</th>\n",
       "      <td>46014.02</td>\n",
       "      <td>85047.44</td>\n",
       "      <td>205517.64</td>\n",
       "      <td>New York</td>\n",
       "      <td>96479.51</td>\n",
       "    </tr>\n",
       "    <tr>\n",
       "      <th>36</th>\n",
       "      <td>28663.76</td>\n",
       "      <td>127056.21</td>\n",
       "      <td>201126.82</td>\n",
       "      <td>Florida</td>\n",
       "      <td>90708.19</td>\n",
       "    </tr>\n",
       "    <tr>\n",
       "      <th>37</th>\n",
       "      <td>44069.95</td>\n",
       "      <td>51283.14</td>\n",
       "      <td>197029.42</td>\n",
       "      <td>California</td>\n",
       "      <td>89949.14</td>\n",
       "    </tr>\n",
       "    <tr>\n",
       "      <th>38</th>\n",
       "      <td>20229.59</td>\n",
       "      <td>65947.93</td>\n",
       "      <td>185265.10</td>\n",
       "      <td>New York</td>\n",
       "      <td>81229.06</td>\n",
       "    </tr>\n",
       "    <tr>\n",
       "      <th>39</th>\n",
       "      <td>38558.51</td>\n",
       "      <td>82982.09</td>\n",
       "      <td>174999.30</td>\n",
       "      <td>California</td>\n",
       "      <td>81005.76</td>\n",
       "    </tr>\n",
       "    <tr>\n",
       "      <th>40</th>\n",
       "      <td>28754.33</td>\n",
       "      <td>118546.05</td>\n",
       "      <td>172795.67</td>\n",
       "      <td>California</td>\n",
       "      <td>78239.91</td>\n",
       "    </tr>\n",
       "    <tr>\n",
       "      <th>41</th>\n",
       "      <td>27892.92</td>\n",
       "      <td>84710.77</td>\n",
       "      <td>164470.71</td>\n",
       "      <td>Florida</td>\n",
       "      <td>77798.83</td>\n",
       "    </tr>\n",
       "    <tr>\n",
       "      <th>42</th>\n",
       "      <td>23640.93</td>\n",
       "      <td>96189.63</td>\n",
       "      <td>148001.11</td>\n",
       "      <td>California</td>\n",
       "      <td>71498.49</td>\n",
       "    </tr>\n",
       "    <tr>\n",
       "      <th>43</th>\n",
       "      <td>15505.73</td>\n",
       "      <td>127382.30</td>\n",
       "      <td>35534.17</td>\n",
       "      <td>New York</td>\n",
       "      <td>69758.98</td>\n",
       "    </tr>\n",
       "    <tr>\n",
       "      <th>44</th>\n",
       "      <td>22177.74</td>\n",
       "      <td>154806.14</td>\n",
       "      <td>28334.72</td>\n",
       "      <td>California</td>\n",
       "      <td>65200.33</td>\n",
       "    </tr>\n",
       "    <tr>\n",
       "      <th>45</th>\n",
       "      <td>1000.23</td>\n",
       "      <td>124153.04</td>\n",
       "      <td>1903.93</td>\n",
       "      <td>New York</td>\n",
       "      <td>64926.08</td>\n",
       "    </tr>\n",
       "    <tr>\n",
       "      <th>46</th>\n",
       "      <td>1315.46</td>\n",
       "      <td>115816.21</td>\n",
       "      <td>297114.46</td>\n",
       "      <td>Florida</td>\n",
       "      <td>49490.75</td>\n",
       "    </tr>\n",
       "    <tr>\n",
       "      <th>47</th>\n",
       "      <td>0.00</td>\n",
       "      <td>135426.92</td>\n",
       "      <td>0.00</td>\n",
       "      <td>California</td>\n",
       "      <td>42559.73</td>\n",
       "    </tr>\n",
       "    <tr>\n",
       "      <th>48</th>\n",
       "      <td>542.05</td>\n",
       "      <td>51743.15</td>\n",
       "      <td>0.00</td>\n",
       "      <td>New York</td>\n",
       "      <td>35673.41</td>\n",
       "    </tr>\n",
       "    <tr>\n",
       "      <th>49</th>\n",
       "      <td>0.00</td>\n",
       "      <td>116983.80</td>\n",
       "      <td>45173.06</td>\n",
       "      <td>California</td>\n",
       "      <td>14681.40</td>\n",
       "    </tr>\n",
       "  </tbody>\n",
       "</table>\n",
       "</div>"
      ],
      "text/plain": [
       "    R&D Spend  Administration  Marketing Spend       State     Profit\n",
       "0   165349.20       136897.80        471784.10    New York  192261.83\n",
       "1   162597.70       151377.59        443898.53  California  191792.06\n",
       "2   153441.51       101145.55        407934.54     Florida  191050.39\n",
       "3   144372.41       118671.85        383199.62    New York  182901.99\n",
       "4   142107.34        91391.77        366168.42     Florida  166187.94\n",
       "5   131876.90        99814.71        362861.36    New York  156991.12\n",
       "6   134615.46       147198.87        127716.82  California  156122.51\n",
       "7   130298.13       145530.06        323876.68     Florida  155752.60\n",
       "8   120542.52       148718.95        311613.29    New York  152211.77\n",
       "9   123334.88       108679.17        304981.62  California  149759.96\n",
       "10  101913.08       110594.11        229160.95     Florida  146121.95\n",
       "11  100671.96        91790.61        249744.55  California  144259.40\n",
       "12   93863.75       127320.38        249839.44     Florida  141585.52\n",
       "13   91992.39       135495.07        252664.93  California  134307.35\n",
       "14  119943.24       156547.42        256512.92     Florida  132602.65\n",
       "15  114523.61       122616.84        261776.23    New York  129917.04\n",
       "16   78013.11       121597.55        264346.06  California  126992.93\n",
       "17   94657.16       145077.58        282574.31    New York  125370.37\n",
       "18   91749.16       114175.79        294919.57     Florida  124266.90\n",
       "19   86419.70       153514.11             0.00    New York  122776.86\n",
       "20   76253.86       113867.30        298664.47  California  118474.03\n",
       "21   78389.47       153773.43        299737.29    New York  111313.02\n",
       "22   73994.56       122782.75        303319.26     Florida  110352.25\n",
       "23   67532.53       105751.03        304768.73     Florida  108733.99\n",
       "24   77044.01        99281.34        140574.81    New York  108552.04\n",
       "25   64664.71       139553.16        137962.62  California  107404.34\n",
       "26   75328.87       144135.98        134050.07     Florida  105733.54\n",
       "27   72107.60       127864.55        353183.81    New York  105008.31\n",
       "28   66051.52       182645.56        118148.20     Florida  103282.38\n",
       "29   65605.48       153032.06        107138.38    New York  101004.64\n",
       "30   61994.48       115641.28         91131.24     Florida   99937.59\n",
       "31   61136.38       152701.92         88218.23    New York   97483.56\n",
       "32   63408.86       129219.61         46085.25  California   97427.84\n",
       "33   55493.95       103057.49        214634.81     Florida   96778.92\n",
       "34   46426.07       157693.92        210797.67  California   96712.80\n",
       "35   46014.02        85047.44        205517.64    New York   96479.51\n",
       "36   28663.76       127056.21        201126.82     Florida   90708.19\n",
       "37   44069.95        51283.14        197029.42  California   89949.14\n",
       "38   20229.59        65947.93        185265.10    New York   81229.06\n",
       "39   38558.51        82982.09        174999.30  California   81005.76\n",
       "40   28754.33       118546.05        172795.67  California   78239.91\n",
       "41   27892.92        84710.77        164470.71     Florida   77798.83\n",
       "42   23640.93        96189.63        148001.11  California   71498.49\n",
       "43   15505.73       127382.30         35534.17    New York   69758.98\n",
       "44   22177.74       154806.14         28334.72  California   65200.33\n",
       "45    1000.23       124153.04          1903.93    New York   64926.08\n",
       "46    1315.46       115816.21        297114.46     Florida   49490.75\n",
       "47       0.00       135426.92             0.00  California   42559.73\n",
       "48     542.05        51743.15             0.00    New York   35673.41\n",
       "49       0.00       116983.80         45173.06  California   14681.40"
      ]
     },
     "execution_count": 6,
     "metadata": {},
     "output_type": "execute_result"
    }
   ],
   "source": [
    "dataset.head(50) #affiche tous puisque la base a 50 lignes"
   ]
  },
  {
   "cell_type": "markdown",
   "metadata": {},
   "source": [
    "## 4.Vérifier les valeurs manquantes"
   ]
  },
  {
   "cell_type": "code",
   "execution_count": 7,
   "metadata": {},
   "outputs": [
    {
     "data": {
      "text/html": [
       "<div>\n",
       "<style scoped>\n",
       "    .dataframe tbody tr th:only-of-type {\n",
       "        vertical-align: middle;\n",
       "    }\n",
       "\n",
       "    .dataframe tbody tr th {\n",
       "        vertical-align: top;\n",
       "    }\n",
       "\n",
       "    .dataframe thead th {\n",
       "        text-align: right;\n",
       "    }\n",
       "</style>\n",
       "<table border=\"1\" class=\"dataframe\">\n",
       "  <thead>\n",
       "    <tr style=\"text-align: right;\">\n",
       "      <th></th>\n",
       "      <th>R&amp;D Spend</th>\n",
       "      <th>Administration</th>\n",
       "      <th>Marketing Spend</th>\n",
       "      <th>State</th>\n",
       "      <th>Profit</th>\n",
       "    </tr>\n",
       "  </thead>\n",
       "  <tbody>\n",
       "    <tr>\n",
       "      <th>0</th>\n",
       "      <td>False</td>\n",
       "      <td>False</td>\n",
       "      <td>False</td>\n",
       "      <td>False</td>\n",
       "      <td>False</td>\n",
       "    </tr>\n",
       "    <tr>\n",
       "      <th>1</th>\n",
       "      <td>False</td>\n",
       "      <td>False</td>\n",
       "      <td>False</td>\n",
       "      <td>False</td>\n",
       "      <td>False</td>\n",
       "    </tr>\n",
       "    <tr>\n",
       "      <th>2</th>\n",
       "      <td>False</td>\n",
       "      <td>False</td>\n",
       "      <td>False</td>\n",
       "      <td>False</td>\n",
       "      <td>False</td>\n",
       "    </tr>\n",
       "    <tr>\n",
       "      <th>3</th>\n",
       "      <td>False</td>\n",
       "      <td>False</td>\n",
       "      <td>False</td>\n",
       "      <td>False</td>\n",
       "      <td>False</td>\n",
       "    </tr>\n",
       "    <tr>\n",
       "      <th>4</th>\n",
       "      <td>False</td>\n",
       "      <td>False</td>\n",
       "      <td>False</td>\n",
       "      <td>False</td>\n",
       "      <td>False</td>\n",
       "    </tr>\n",
       "    <tr>\n",
       "      <th>5</th>\n",
       "      <td>False</td>\n",
       "      <td>False</td>\n",
       "      <td>False</td>\n",
       "      <td>False</td>\n",
       "      <td>False</td>\n",
       "    </tr>\n",
       "    <tr>\n",
       "      <th>6</th>\n",
       "      <td>False</td>\n",
       "      <td>False</td>\n",
       "      <td>False</td>\n",
       "      <td>False</td>\n",
       "      <td>False</td>\n",
       "    </tr>\n",
       "    <tr>\n",
       "      <th>7</th>\n",
       "      <td>False</td>\n",
       "      <td>False</td>\n",
       "      <td>False</td>\n",
       "      <td>False</td>\n",
       "      <td>False</td>\n",
       "    </tr>\n",
       "    <tr>\n",
       "      <th>8</th>\n",
       "      <td>False</td>\n",
       "      <td>False</td>\n",
       "      <td>False</td>\n",
       "      <td>False</td>\n",
       "      <td>False</td>\n",
       "    </tr>\n",
       "    <tr>\n",
       "      <th>9</th>\n",
       "      <td>False</td>\n",
       "      <td>False</td>\n",
       "      <td>False</td>\n",
       "      <td>False</td>\n",
       "      <td>False</td>\n",
       "    </tr>\n",
       "    <tr>\n",
       "      <th>10</th>\n",
       "      <td>False</td>\n",
       "      <td>False</td>\n",
       "      <td>False</td>\n",
       "      <td>False</td>\n",
       "      <td>False</td>\n",
       "    </tr>\n",
       "    <tr>\n",
       "      <th>11</th>\n",
       "      <td>False</td>\n",
       "      <td>False</td>\n",
       "      <td>False</td>\n",
       "      <td>False</td>\n",
       "      <td>False</td>\n",
       "    </tr>\n",
       "    <tr>\n",
       "      <th>12</th>\n",
       "      <td>False</td>\n",
       "      <td>False</td>\n",
       "      <td>False</td>\n",
       "      <td>False</td>\n",
       "      <td>False</td>\n",
       "    </tr>\n",
       "    <tr>\n",
       "      <th>13</th>\n",
       "      <td>False</td>\n",
       "      <td>False</td>\n",
       "      <td>False</td>\n",
       "      <td>False</td>\n",
       "      <td>False</td>\n",
       "    </tr>\n",
       "    <tr>\n",
       "      <th>14</th>\n",
       "      <td>False</td>\n",
       "      <td>False</td>\n",
       "      <td>False</td>\n",
       "      <td>False</td>\n",
       "      <td>False</td>\n",
       "    </tr>\n",
       "    <tr>\n",
       "      <th>15</th>\n",
       "      <td>False</td>\n",
       "      <td>False</td>\n",
       "      <td>False</td>\n",
       "      <td>False</td>\n",
       "      <td>False</td>\n",
       "    </tr>\n",
       "    <tr>\n",
       "      <th>16</th>\n",
       "      <td>False</td>\n",
       "      <td>False</td>\n",
       "      <td>False</td>\n",
       "      <td>False</td>\n",
       "      <td>False</td>\n",
       "    </tr>\n",
       "    <tr>\n",
       "      <th>17</th>\n",
       "      <td>False</td>\n",
       "      <td>False</td>\n",
       "      <td>False</td>\n",
       "      <td>False</td>\n",
       "      <td>False</td>\n",
       "    </tr>\n",
       "    <tr>\n",
       "      <th>18</th>\n",
       "      <td>False</td>\n",
       "      <td>False</td>\n",
       "      <td>False</td>\n",
       "      <td>False</td>\n",
       "      <td>False</td>\n",
       "    </tr>\n",
       "    <tr>\n",
       "      <th>19</th>\n",
       "      <td>False</td>\n",
       "      <td>False</td>\n",
       "      <td>False</td>\n",
       "      <td>False</td>\n",
       "      <td>False</td>\n",
       "    </tr>\n",
       "    <tr>\n",
       "      <th>20</th>\n",
       "      <td>False</td>\n",
       "      <td>False</td>\n",
       "      <td>False</td>\n",
       "      <td>False</td>\n",
       "      <td>False</td>\n",
       "    </tr>\n",
       "    <tr>\n",
       "      <th>21</th>\n",
       "      <td>False</td>\n",
       "      <td>False</td>\n",
       "      <td>False</td>\n",
       "      <td>False</td>\n",
       "      <td>False</td>\n",
       "    </tr>\n",
       "    <tr>\n",
       "      <th>22</th>\n",
       "      <td>False</td>\n",
       "      <td>False</td>\n",
       "      <td>False</td>\n",
       "      <td>False</td>\n",
       "      <td>False</td>\n",
       "    </tr>\n",
       "    <tr>\n",
       "      <th>23</th>\n",
       "      <td>False</td>\n",
       "      <td>False</td>\n",
       "      <td>False</td>\n",
       "      <td>False</td>\n",
       "      <td>False</td>\n",
       "    </tr>\n",
       "    <tr>\n",
       "      <th>24</th>\n",
       "      <td>False</td>\n",
       "      <td>False</td>\n",
       "      <td>False</td>\n",
       "      <td>False</td>\n",
       "      <td>False</td>\n",
       "    </tr>\n",
       "    <tr>\n",
       "      <th>25</th>\n",
       "      <td>False</td>\n",
       "      <td>False</td>\n",
       "      <td>False</td>\n",
       "      <td>False</td>\n",
       "      <td>False</td>\n",
       "    </tr>\n",
       "    <tr>\n",
       "      <th>26</th>\n",
       "      <td>False</td>\n",
       "      <td>False</td>\n",
       "      <td>False</td>\n",
       "      <td>False</td>\n",
       "      <td>False</td>\n",
       "    </tr>\n",
       "    <tr>\n",
       "      <th>27</th>\n",
       "      <td>False</td>\n",
       "      <td>False</td>\n",
       "      <td>False</td>\n",
       "      <td>False</td>\n",
       "      <td>False</td>\n",
       "    </tr>\n",
       "    <tr>\n",
       "      <th>28</th>\n",
       "      <td>False</td>\n",
       "      <td>False</td>\n",
       "      <td>False</td>\n",
       "      <td>False</td>\n",
       "      <td>False</td>\n",
       "    </tr>\n",
       "    <tr>\n",
       "      <th>29</th>\n",
       "      <td>False</td>\n",
       "      <td>False</td>\n",
       "      <td>False</td>\n",
       "      <td>False</td>\n",
       "      <td>False</td>\n",
       "    </tr>\n",
       "    <tr>\n",
       "      <th>30</th>\n",
       "      <td>False</td>\n",
       "      <td>False</td>\n",
       "      <td>False</td>\n",
       "      <td>False</td>\n",
       "      <td>False</td>\n",
       "    </tr>\n",
       "    <tr>\n",
       "      <th>31</th>\n",
       "      <td>False</td>\n",
       "      <td>False</td>\n",
       "      <td>False</td>\n",
       "      <td>False</td>\n",
       "      <td>False</td>\n",
       "    </tr>\n",
       "    <tr>\n",
       "      <th>32</th>\n",
       "      <td>False</td>\n",
       "      <td>False</td>\n",
       "      <td>False</td>\n",
       "      <td>False</td>\n",
       "      <td>False</td>\n",
       "    </tr>\n",
       "    <tr>\n",
       "      <th>33</th>\n",
       "      <td>False</td>\n",
       "      <td>False</td>\n",
       "      <td>False</td>\n",
       "      <td>False</td>\n",
       "      <td>False</td>\n",
       "    </tr>\n",
       "    <tr>\n",
       "      <th>34</th>\n",
       "      <td>False</td>\n",
       "      <td>False</td>\n",
       "      <td>False</td>\n",
       "      <td>False</td>\n",
       "      <td>False</td>\n",
       "    </tr>\n",
       "    <tr>\n",
       "      <th>35</th>\n",
       "      <td>False</td>\n",
       "      <td>False</td>\n",
       "      <td>False</td>\n",
       "      <td>False</td>\n",
       "      <td>False</td>\n",
       "    </tr>\n",
       "    <tr>\n",
       "      <th>36</th>\n",
       "      <td>False</td>\n",
       "      <td>False</td>\n",
       "      <td>False</td>\n",
       "      <td>False</td>\n",
       "      <td>False</td>\n",
       "    </tr>\n",
       "    <tr>\n",
       "      <th>37</th>\n",
       "      <td>False</td>\n",
       "      <td>False</td>\n",
       "      <td>False</td>\n",
       "      <td>False</td>\n",
       "      <td>False</td>\n",
       "    </tr>\n",
       "    <tr>\n",
       "      <th>38</th>\n",
       "      <td>False</td>\n",
       "      <td>False</td>\n",
       "      <td>False</td>\n",
       "      <td>False</td>\n",
       "      <td>False</td>\n",
       "    </tr>\n",
       "    <tr>\n",
       "      <th>39</th>\n",
       "      <td>False</td>\n",
       "      <td>False</td>\n",
       "      <td>False</td>\n",
       "      <td>False</td>\n",
       "      <td>False</td>\n",
       "    </tr>\n",
       "    <tr>\n",
       "      <th>40</th>\n",
       "      <td>False</td>\n",
       "      <td>False</td>\n",
       "      <td>False</td>\n",
       "      <td>False</td>\n",
       "      <td>False</td>\n",
       "    </tr>\n",
       "    <tr>\n",
       "      <th>41</th>\n",
       "      <td>False</td>\n",
       "      <td>False</td>\n",
       "      <td>False</td>\n",
       "      <td>False</td>\n",
       "      <td>False</td>\n",
       "    </tr>\n",
       "    <tr>\n",
       "      <th>42</th>\n",
       "      <td>False</td>\n",
       "      <td>False</td>\n",
       "      <td>False</td>\n",
       "      <td>False</td>\n",
       "      <td>False</td>\n",
       "    </tr>\n",
       "    <tr>\n",
       "      <th>43</th>\n",
       "      <td>False</td>\n",
       "      <td>False</td>\n",
       "      <td>False</td>\n",
       "      <td>False</td>\n",
       "      <td>False</td>\n",
       "    </tr>\n",
       "    <tr>\n",
       "      <th>44</th>\n",
       "      <td>False</td>\n",
       "      <td>False</td>\n",
       "      <td>False</td>\n",
       "      <td>False</td>\n",
       "      <td>False</td>\n",
       "    </tr>\n",
       "    <tr>\n",
       "      <th>45</th>\n",
       "      <td>False</td>\n",
       "      <td>False</td>\n",
       "      <td>False</td>\n",
       "      <td>False</td>\n",
       "      <td>False</td>\n",
       "    </tr>\n",
       "    <tr>\n",
       "      <th>46</th>\n",
       "      <td>False</td>\n",
       "      <td>False</td>\n",
       "      <td>False</td>\n",
       "      <td>False</td>\n",
       "      <td>False</td>\n",
       "    </tr>\n",
       "    <tr>\n",
       "      <th>47</th>\n",
       "      <td>False</td>\n",
       "      <td>False</td>\n",
       "      <td>False</td>\n",
       "      <td>False</td>\n",
       "      <td>False</td>\n",
       "    </tr>\n",
       "    <tr>\n",
       "      <th>48</th>\n",
       "      <td>False</td>\n",
       "      <td>False</td>\n",
       "      <td>False</td>\n",
       "      <td>False</td>\n",
       "      <td>False</td>\n",
       "    </tr>\n",
       "    <tr>\n",
       "      <th>49</th>\n",
       "      <td>False</td>\n",
       "      <td>False</td>\n",
       "      <td>False</td>\n",
       "      <td>False</td>\n",
       "      <td>False</td>\n",
       "    </tr>\n",
       "  </tbody>\n",
       "</table>\n",
       "</div>"
      ],
      "text/plain": [
       "    R&D Spend  Administration  Marketing Spend  State  Profit\n",
       "0       False           False            False  False   False\n",
       "1       False           False            False  False   False\n",
       "2       False           False            False  False   False\n",
       "3       False           False            False  False   False\n",
       "4       False           False            False  False   False\n",
       "5       False           False            False  False   False\n",
       "6       False           False            False  False   False\n",
       "7       False           False            False  False   False\n",
       "8       False           False            False  False   False\n",
       "9       False           False            False  False   False\n",
       "10      False           False            False  False   False\n",
       "11      False           False            False  False   False\n",
       "12      False           False            False  False   False\n",
       "13      False           False            False  False   False\n",
       "14      False           False            False  False   False\n",
       "15      False           False            False  False   False\n",
       "16      False           False            False  False   False\n",
       "17      False           False            False  False   False\n",
       "18      False           False            False  False   False\n",
       "19      False           False            False  False   False\n",
       "20      False           False            False  False   False\n",
       "21      False           False            False  False   False\n",
       "22      False           False            False  False   False\n",
       "23      False           False            False  False   False\n",
       "24      False           False            False  False   False\n",
       "25      False           False            False  False   False\n",
       "26      False           False            False  False   False\n",
       "27      False           False            False  False   False\n",
       "28      False           False            False  False   False\n",
       "29      False           False            False  False   False\n",
       "30      False           False            False  False   False\n",
       "31      False           False            False  False   False\n",
       "32      False           False            False  False   False\n",
       "33      False           False            False  False   False\n",
       "34      False           False            False  False   False\n",
       "35      False           False            False  False   False\n",
       "36      False           False            False  False   False\n",
       "37      False           False            False  False   False\n",
       "38      False           False            False  False   False\n",
       "39      False           False            False  False   False\n",
       "40      False           False            False  False   False\n",
       "41      False           False            False  False   False\n",
       "42      False           False            False  False   False\n",
       "43      False           False            False  False   False\n",
       "44      False           False            False  False   False\n",
       "45      False           False            False  False   False\n",
       "46      False           False            False  False   False\n",
       "47      False           False            False  False   False\n",
       "48      False           False            False  False   False\n",
       "49      False           False            False  False   False"
      ]
     },
     "execution_count": 7,
     "metadata": {},
     "output_type": "execute_result"
    }
   ],
   "source": [
    "dataset.isnull() # on va retourner un tableau avec des valeurs boolean; False si on ne trouve pas de valeur manquante et True inversement."
   ]
  },
  {
   "cell_type": "code",
   "execution_count": 8,
   "metadata": {},
   "outputs": [
    {
     "data": {
      "text/plain": [
       "R&D Spend          0\n",
       "Administration     0\n",
       "Marketing Spend    0\n",
       "State              0\n",
       "Profit             0\n",
       "dtype: int64"
      ]
     },
     "execution_count": 8,
     "metadata": {},
     "output_type": "execute_result"
    }
   ],
   "source": [
    "dataset.isnull().sum() #donc ici on n'a aucune valeur manquante"
   ]
  },
  {
   "cell_type": "markdown",
   "metadata": {},
   "source": [
    "## 5.\tDescription statistique"
   ]
  },
  {
   "cell_type": "code",
   "execution_count": 9,
   "metadata": {},
   "outputs": [
    {
     "data": {
      "text/html": [
       "<div>\n",
       "<style scoped>\n",
       "    .dataframe tbody tr th:only-of-type {\n",
       "        vertical-align: middle;\n",
       "    }\n",
       "\n",
       "    .dataframe tbody tr th {\n",
       "        vertical-align: top;\n",
       "    }\n",
       "\n",
       "    .dataframe thead th {\n",
       "        text-align: right;\n",
       "    }\n",
       "</style>\n",
       "<table border=\"1\" class=\"dataframe\">\n",
       "  <thead>\n",
       "    <tr style=\"text-align: right;\">\n",
       "      <th></th>\n",
       "      <th>R&amp;D Spend</th>\n",
       "      <th>Administration</th>\n",
       "      <th>Marketing Spend</th>\n",
       "      <th>Profit</th>\n",
       "    </tr>\n",
       "  </thead>\n",
       "  <tbody>\n",
       "    <tr>\n",
       "      <th>count</th>\n",
       "      <td>50.000000</td>\n",
       "      <td>50.000000</td>\n",
       "      <td>50.000000</td>\n",
       "      <td>50.000000</td>\n",
       "    </tr>\n",
       "    <tr>\n",
       "      <th>mean</th>\n",
       "      <td>73721.615600</td>\n",
       "      <td>121344.639600</td>\n",
       "      <td>211025.097800</td>\n",
       "      <td>112012.639200</td>\n",
       "    </tr>\n",
       "    <tr>\n",
       "      <th>std</th>\n",
       "      <td>45902.256482</td>\n",
       "      <td>28017.802755</td>\n",
       "      <td>122290.310726</td>\n",
       "      <td>40306.180338</td>\n",
       "    </tr>\n",
       "    <tr>\n",
       "      <th>min</th>\n",
       "      <td>0.000000</td>\n",
       "      <td>51283.140000</td>\n",
       "      <td>0.000000</td>\n",
       "      <td>14681.400000</td>\n",
       "    </tr>\n",
       "    <tr>\n",
       "      <th>25%</th>\n",
       "      <td>39936.370000</td>\n",
       "      <td>103730.875000</td>\n",
       "      <td>129300.132500</td>\n",
       "      <td>90138.902500</td>\n",
       "    </tr>\n",
       "    <tr>\n",
       "      <th>50%</th>\n",
       "      <td>73051.080000</td>\n",
       "      <td>122699.795000</td>\n",
       "      <td>212716.240000</td>\n",
       "      <td>107978.190000</td>\n",
       "    </tr>\n",
       "    <tr>\n",
       "      <th>75%</th>\n",
       "      <td>101602.800000</td>\n",
       "      <td>144842.180000</td>\n",
       "      <td>299469.085000</td>\n",
       "      <td>139765.977500</td>\n",
       "    </tr>\n",
       "    <tr>\n",
       "      <th>max</th>\n",
       "      <td>165349.200000</td>\n",
       "      <td>182645.560000</td>\n",
       "      <td>471784.100000</td>\n",
       "      <td>192261.830000</td>\n",
       "    </tr>\n",
       "  </tbody>\n",
       "</table>\n",
       "</div>"
      ],
      "text/plain": [
       "           R&D Spend  Administration  Marketing Spend         Profit\n",
       "count      50.000000       50.000000        50.000000      50.000000\n",
       "mean    73721.615600   121344.639600    211025.097800  112012.639200\n",
       "std     45902.256482    28017.802755    122290.310726   40306.180338\n",
       "min         0.000000    51283.140000         0.000000   14681.400000\n",
       "25%     39936.370000   103730.875000    129300.132500   90138.902500\n",
       "50%     73051.080000   122699.795000    212716.240000  107978.190000\n",
       "75%    101602.800000   144842.180000    299469.085000  139765.977500\n",
       "max    165349.200000   182645.560000    471784.100000  192261.830000"
      ]
     },
     "execution_count": 9,
     "metadata": {},
     "output_type": "execute_result"
    }
   ],
   "source": [
    "dataset.describe()"
   ]
  },
  {
   "cell_type": "markdown",
   "metadata": {},
   "source": [
    "on peut dire ici qu'on a 50 valeurs dans chacune des colonnes ceci est donné à partir de la fonction count.\n",
    "mean donne la moyenne.\n",
    "std est l'écart type.\n",
    "min c'est pour les valeurs minimales\n",
    "max pour les valeurs maximales\n",
    "entre 25%, 50% et 75% c'est la région interquartile; elle indique la longueur de l'intervalle dans lequel la moitié centrale des valeurs de la série sont comprises."
   ]
  },
  {
   "cell_type": "markdown",
   "metadata": {},
   "source": [
    "## 6.Boxplot"
   ]
  },
  {
   "cell_type": "code",
   "execution_count": 10,
   "metadata": {},
   "outputs": [
    {
     "data": {
      "text/plain": [
       "<AxesSubplot:>"
      ]
     },
     "execution_count": 10,
     "metadata": {},
     "output_type": "execute_result"
    },
    {
     "data": {
      "image/png": "[encoded data removed]",
      "text/plain": [
       "<Figure size 432x288 with 1 Axes>"
      ]
     },
     "metadata": {},
     "output_type": "display_data"
    }
   ],
   "source": [
    "sns.set(style = 'whitegrid') \n",
    "sns.boxplot(data = dataset['R&D Spend'], orient = 'v') #afficher les quartiles"
   ]
  },
  {
   "cell_type": "code",
   "execution_count": 11,
   "metadata": {},
   "outputs": [
    {
     "data": {
      "text/plain": [
       "<AxesSubplot:>"
      ]
     },
     "execution_count": 11,
     "metadata": {},
     "output_type": "execute_result"
    },
    {
     "data": {
      "image/png": "[encoded data removed]",
      "text/plain": [
       "<Figure size 432x288 with 1 Axes>"
      ]
     },
     "metadata": {},
     "output_type": "display_data"
    }
   ],
   "source": [
    "sns.boxplot(data = dataset['Administration'], orient = 'v')"
   ]
  },
  {
   "cell_type": "code",
   "execution_count": 12,
   "metadata": {},
   "outputs": [
    {
     "data": {
      "text/plain": [
       "<AxesSubplot:>"
      ]
     },
     "execution_count": 12,
     "metadata": {},
     "output_type": "execute_result"
    },
    {
     "data": {
      "image/png": "[encoded data removed]",
      "text/plain": [
       "<Figure size 432x288 with 1 Axes>"
      ]
     },
     "metadata": {},
     "output_type": "display_data"
    }
   ],
   "source": [
    "sns.boxplot(data = dataset['Marketing Spend'], orient = 'v')"
   ]
  },
  {
   "cell_type": "code",
   "execution_count": 13,
   "metadata": {},
   "outputs": [
    {
     "data": {
      "text/plain": [
       "<AxesSubplot:>"
      ]
     },
     "execution_count": 13,
     "metadata": {},
     "output_type": "execute_result"
    },
    {
     "data": {
      "image/png": "[encoded data removed]",
      "text/plain": [
       "<Figure size 432x288 with 1 Axes>"
      ]
     },
     "metadata": {},
     "output_type": "display_data"
    }
   ],
   "source": [
    "sns.boxplot(data = dataset['Profit'], orient = 'v')"
   ]
  },
  {
   "cell_type": "code",
   "execution_count": 14,
   "metadata": {},
   "outputs": [
    {
     "data": {
      "image/png": "[encoded data removed]",
      "text/plain": [
       "<Figure size 432x288 with 1 Axes>"
      ]
     },
     "metadata": {},
     "output_type": "display_data"
    }
   ],
   "source": [
    "sns.set(style = 'whitegrid')\n",
    "\n",
    "df = pd.DataFrame(data = np.random.random(size=(5,5)), columns = ['R&D Spend','Administration','Marketing Spend','State','Profit'])\n",
    "\n",
    "sns.boxplot(x=\"variable\", y=\"value\", data=pd.melt(df))\n",
    "\n",
    "plt.show()"
   ]
  },
  {
   "cell_type": "markdown",
   "metadata": {},
   "source": [
    "## 7.\tScatterplot des variables numériques (deux à deux)"
   ]
  },
  {
   "cell_type": "markdown",
   "metadata": {},
   "source": [
    "### R&D Spend vs Administration"
   ]
  },
  {
   "cell_type": "code",
   "execution_count": 15,
   "metadata": {},
   "outputs": [
    {
     "data": {
      "text/plain": [
       "Text(0.5, 1.0, 'R&D Spend vs Administration')"
      ]
     },
     "execution_count": 15,
     "metadata": {},
     "output_type": "execute_result"
    },
    {
     "data": {
      "image/png": "[encoded data removed]",
      "text/plain": [
       "<Figure size 432x288 with 1 Axes>"
      ]
     },
     "metadata": {},
     "output_type": "display_data"
    }
   ],
   "source": [
    "plt.scatter(x = dataset['R&D Spend'], y = dataset['Administration'])\n",
    "plt.xlabel('R&D Spend')\n",
    "plt.ylabel('Administration')\n",
    "plt.title('R&D Spend vs Administration')"
   ]
  },
  {
   "cell_type": "markdown",
   "metadata": {},
   "source": [
    "### R&D Spend vs Marketing Spend"
   ]
  },
  {
   "cell_type": "code",
   "execution_count": 16,
   "metadata": {},
   "outputs": [
    {
     "data": {
      "text/plain": [
       "Text(0.5, 1.0, 'R&D Spend vs Marketing Spend')"
      ]
     },
     "execution_count": 16,
     "metadata": {},
     "output_type": "execute_result"
    },
    {
     "data": {
      "image/png": "[encoded data removed]",
      "text/plain": [
       "<Figure size 432x288 with 1 Axes>"
      ]
     },
     "metadata": {},
     "output_type": "display_data"
    }
   ],
   "source": [
    "plt.scatter(x = dataset['R&D Spend'], y = dataset['Marketing Spend'])\n",
    "plt.xlabel('R&D Spend')\n",
    "plt.ylabel('Marketing Spend')\n",
    "plt.title('R&D Spend vs Marketing Spend')"
   ]
  },
  {
   "cell_type": "markdown",
   "metadata": {},
   "source": [
    "### R&D Spend vs Profit"
   ]
  },
  {
   "cell_type": "code",
   "execution_count": 17,
   "metadata": {},
   "outputs": [
    {
     "data": {
      "text/plain": [
       "Text(0.5, 1.0, 'R&D Spend vs Profit')"
      ]
     },
     "execution_count": 17,
     "metadata": {},
     "output_type": "execute_result"
    },
    {
     "data": {
      "image/png": "[encoded data removed]",
      "text/plain": [
       "<Figure size 432x288 with 1 Axes>"
      ]
     },
     "metadata": {},
     "output_type": "display_data"
    }
   ],
   "source": [
    "plt.scatter(x = dataset['R&D Spend'], y = dataset['Profit'])\n",
    "plt.xlabel('R&D Spend')\n",
    "plt.ylabel('Profit')\n",
    "plt.title('R&D Spend vs Profit')"
   ]
  },
  {
   "cell_type": "markdown",
   "metadata": {},
   "source": [
    "### Administration vs Marketing Spend"
   ]
  },
  {
   "cell_type": "code",
   "execution_count": 18,
   "metadata": {},
   "outputs": [
    {
     "data": {
      "text/plain": [
       "Text(0.5, 1.0, 'Administartion vs Marketing Spend')"
      ]
     },
     "execution_count": 18,
     "metadata": {},
     "output_type": "execute_result"
    },
    {
     "data": {
      "image/png": "[encoded data removed]",
      "text/plain": [
       "<Figure size 432x288 with 1 Axes>"
      ]
     },
     "metadata": {},
     "output_type": "display_data"
    }
   ],
   "source": [
    "plt.scatter(x = dataset['Administration'], y = dataset['Marketing Spend'])\n",
    "plt.xlabel('Administration')\n",
    "plt.ylabel('Marketing Spend')\n",
    "plt.title('Administartion vs Marketing Spend')"
   ]
  },
  {
   "cell_type": "markdown",
   "metadata": {},
   "source": [
    "### Administration vs Profit"
   ]
  },
  {
   "cell_type": "code",
   "execution_count": 19,
   "metadata": {},
   "outputs": [
    {
     "data": {
      "text/plain": [
       "Text(0.5, 1.0, 'Administration vs Profit')"
      ]
     },
     "execution_count": 19,
     "metadata": {},
     "output_type": "execute_result"
    },
    {
     "data": {
      "image/png": "[encoded data removed]",
      "text/plain": [
       "<Figure size 432x288 with 1 Axes>"
      ]
     },
     "metadata": {},
     "output_type": "display_data"
    }
   ],
   "source": [
    "plt.scatter(x = dataset['Administration'], y = dataset['Profit'])\n",
    "plt.xlabel('Administration')\n",
    "plt.ylabel('Profit')\n",
    "plt.title('Administration vs Profit')"
   ]
  },
  {
   "cell_type": "markdown",
   "metadata": {},
   "source": [
    "### Marketing Spend vs Profit"
   ]
  },
  {
   "cell_type": "code",
   "execution_count": 20,
   "metadata": {},
   "outputs": [
    {
     "data": {
      "text/plain": [
       "Text(0.5, 1.0, 'Marketing Spend vs Profit')"
      ]
     },
     "execution_count": 20,
     "metadata": {},
     "output_type": "execute_result"
    },
    {
     "data": {
      "image/png": "[encoded data removed]",
      "text/plain": [
       "<Figure size 432x288 with 1 Axes>"
      ]
     },
     "metadata": {},
     "output_type": "display_data"
    }
   ],
   "source": [
    "plt.scatter(x = dataset['Marketing Spend'], y = dataset['Profit'])\n",
    "plt.xlabel('Marketing Spend')\n",
    "plt.ylabel('Profit')\n",
    "plt.title('Marketing Spend vs Profit')"
   ]
  },
  {
   "cell_type": "code",
   "execution_count": 21,
   "metadata": {},
   "outputs": [
    {
     "data": {
      "text/plain": [
       "<seaborn.axisgrid.PairGrid at 0x29030177d60>"
      ]
     },
     "execution_count": 21,
     "metadata": {},
     "output_type": "execute_result"
    },
    {
     "data": {
      "image/png": "[encoded data removed]",
      "text/plain": [
       "<Figure size 720x720 with 20 Axes>"
      ]
     },
     "metadata": {},
     "output_type": "display_data"
    }
   ],
   "source": [
    "sns.pairplot(dataset)"
   ]
  },
  {
   "cell_type": "markdown",
   "metadata": {},
   "source": [
    "## 8.\tCorrélations"
   ]
  },
  {
   "cell_type": "code",
   "execution_count": 22,
   "metadata": {},
   "outputs": [],
   "source": [
    "correlations = dataset.corr()"
   ]
  },
  {
   "cell_type": "code",
   "execution_count": 23,
   "metadata": {},
   "outputs": [
    {
     "ename": "SyntaxError",
     "evalue": "invalid syntax (<ipython-input-23-a8140421bc08>, line 1)",
     "output_type": "error",
     "traceback": [
      "\u001b[1;36m  File \u001b[1;32m\"<ipython-input-23-a8140421bc08>\"\u001b[1;36m, line \u001b[1;32m1\u001b[0m\n\u001b[1;33m    data:image/png;base64,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.subplots(figsize= (5,5))\u001b[0m\n\u001b[1;37m                                                                                                                                                                                                                                                                                                                     ^\u001b[0m\n\u001b[1;31mSyntaxError\u001b[0m\u001b[1;31m:\u001b[0m invalid syntax\n"
     ]
    }
   ],
   "source": [
    "data:image/png;base64,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.subplots(figsize= (5,5))\n",
    "sns.heatmap(correlations, annot = True)"
   ]
  },
  {
   "cell_type": "markdown",
   "metadata": {},
   "source": [
    "## 9.Les features X =(‘R&D Spend’, ‘Administration’, ‘Marketing Spend’, ‘State’) et la variable cible y =(‘Profit’)"
   ]
  },
  {
   "cell_type": "code",
   "execution_count": null,
   "metadata": {},
   "outputs": [],
   "source": [
    "X = dataset.iloc[:, :-1]\n",
    "y = dataset.iloc[:, 1]"
   ]
  },
  {
   "cell_type": "code",
   "execution_count": null,
   "metadata": {},
   "outputs": [],
   "source": [
    "type(X)"
   ]
  },
  {
   "cell_type": "code",
   "execution_count": null,
   "metadata": {},
   "outputs": [],
   "source": [
    "X.head()"
   ]
  },
  {
   "cell_type": "code",
   "execution_count": null,
   "metadata": {},
   "outputs": [],
   "source": [
    "y.head()"
   ]
  },
  {
   "cell_type": "markdown",
   "metadata": {},
   "source": [
    "## 10.\tCoder les variables Dummy (variable = ‘State’)"
   ]
  },
  {
   "cell_type": "code",
   "execution_count": null,
   "metadata": {},
   "outputs": [],
   "source": [
    "X=pd.get_dummies(X, columns=['State']) # utilisation de la bibliothèque pandas pour créer une variable dummy"
   ]
  },
  {
   "cell_type": "code",
   "execution_count": null,
   "metadata": {},
   "outputs": [],
   "source": [
    "X"
   ]
  },
  {
   "cell_type": "markdown",
   "metadata": {},
   "source": [
    "## 11.\tDonnées d’entraînement et de test"
   ]
  },
  {
   "cell_type": "code",
   "execution_count": null,
   "metadata": {},
   "outputs": [],
   "source": [
    "from sklearn.model_selection import train_test_split "
   ]
  },
  {
   "cell_type": "code",
   "execution_count": null,
   "metadata": {},
   "outputs": [],
   "source": [
    "X_train,X_test,y_train,y_test = train_test_split(X,y,test_size=0.4)"
   ]
  },
  {
   "cell_type": "code",
   "execution_count": null,
   "metadata": {},
   "outputs": [],
   "source": [
    "X_train"
   ]
  },
  {
   "cell_type": "code",
   "execution_count": null,
   "metadata": {},
   "outputs": [],
   "source": [
    "X_test"
   ]
  },
  {
   "cell_type": "code",
   "execution_count": null,
   "metadata": {},
   "outputs": [],
   "source": [
    "print('Dimension X_train', X_train.shape)\n",
    "print('Dimension X_test', X_test.shape)\n",
    "print('Dimension y_train', y_train.shape)\n",
    "print('Dimension y_test', y_test.shape)"
   ]
  },
  {
   "cell_type": "markdown",
   "metadata": {},
   "source": [
    "## 12.Modélisation avec LinearRegression"
   ]
  },
  {
   "cell_type": "code",
   "execution_count": null,
   "metadata": {},
   "outputs": [],
   "source": [
    "from sklearn.linear_model import LinearRegression"
   ]
  },
  {
   "cell_type": "code",
   "execution_count": null,
   "metadata": {},
   "outputs": [],
   "source": [
    "mod = LinearRegression()\n",
    "mod.fit(X_train,y_train)"
   ]
  },
  {
   "cell_type": "code",
   "execution_count": null,
   "metadata": {
    "scrolled": true
   },
   "outputs": [],
   "source": [
    "y_pred = mod.predict(X_test)"
   ]
  },
  {
   "cell_type": "code",
   "execution_count": null,
   "metadata": {},
   "outputs": [],
   "source": [
    "y_pred"
   ]
  },
  {
   "cell_type": "markdown",
   "metadata": {},
   "source": [
    "## 13.\tEvaluer le modèle avec les métriques mae, mse, rmse et r2"
   ]
  },
  {
   "cell_type": "code",
   "execution_count": null,
   "metadata": {},
   "outputs": [],
   "source": [
    "from sklearn.metrics import mean_absolute_error,mean_squared_error,r2_score"
   ]
  },
  {
   "cell_type": "code",
   "execution_count": null,
   "metadata": {},
   "outputs": [],
   "source": [
    "mae = mean_absolute_error(y_pred,y_test)"
   ]
  },
  {
   "cell_type": "code",
   "execution_count": null,
   "metadata": {},
   "outputs": [],
   "source": [
    "mse = mean_squared_error(y_pred,y_test)"
   ]
  },
  {
   "cell_type": "code",
   "execution_count": null,
   "metadata": {},
   "outputs": [],
   "source": [
    "rmse = np.sqrt(mean_squared_error(y_pred,y_test))"
   ]
  },
  {
   "cell_type": "code",
   "execution_count": null,
   "metadata": {},
   "outputs": [],
   "source": [
    "r2 = r2_score(y_pred,y_test)"
   ]
  },
  {
   "cell_type": "code",
   "execution_count": null,
   "metadata": {},
   "outputs": [],
   "source": [
    "print(\" mae = \",mae)\n",
    "print(\" mse = \",mse)\n",
    "print(\" rmse = \",rmse)\n",
    "print(\" r2 = \",r2)"
   ]
  }
 ],
 "metadata": {
  "kernelspec": {
   "display_name": "Python 3",
   "language": "python",
   "name": "python3"
  },
  "language_info": {
   "codemirror_mode": {
    "name": "ipython",
    "version": 3
   },
   "file_extension": ".py",
   "mimetype": "text/x-python",
   "name": "python",
   "nbconvert_exporter": "python",
   "pygments_lexer": "ipython3",
   "version": "3.8.5"
  }
 },
 "nbformat": 4,
 "nbformat_minor": 2
}
